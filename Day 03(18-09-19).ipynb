{
 "cells": [
  {
   "cell_type": "code",
   "execution_count": null,
   "metadata": {},
   "outputs": [],
   "source": []
  },
  {
   "cell_type": "markdown",
   "metadata": {},
   "source": [
    "## String Slicing"
   ]
  },
  {
   "cell_type": "code",
   "execution_count": 5,
   "metadata": {},
   "outputs": [
    {
     "name": "stdout",
     "output_type": "stream",
     "text": [
      "P\n",
      "y\n",
      "6\n",
      "n\n",
      "n\n",
      "o\n"
     ]
    }
   ],
   "source": [
    "s1 = \"Python\"\n",
    "print(s1[0]) # Accessing the first character in a string\n",
    "print(s1[1]) # Accessing the second character in a string\n",
    "print(len(s1)) # Length of the string\n",
    "print(s1[len(s1)-1]) # Access the Last character of the string\n",
    "print(s1[-1]) # Another way to access the last character\n",
    "print(s1[-2])"
   ]
  },
  {
   "cell_type": "code",
   "execution_count": 12,
   "metadata": {},
   "outputs": [
    {
     "name": "stdout",
     "output_type": "stream",
     "text": [
      "Py\n",
      "on\n",
      "hon\n",
      "tho\n",
      "ytho\n"
     ]
    }
   ],
   "source": [
    "print(s1[0:2]) # Access the first two characters\n",
    "print(s1[-2:])# Access the last two characters\n",
    "print(s1[3:])# Access the characters from 3 till last\n",
    "print(s1[2:5])# Access the characters from 2 to 5\n",
    "print(s1[1:-1])# All the characters except 1st and last character\n"
   ]
  },
  {
   "cell_type": "code",
   "execution_count": 13,
   "metadata": {},
   "outputs": [
    {
     "data": {
      "text/plain": [
       "'nohtyP'"
      ]
     },
     "execution_count": 13,
     "metadata": {},
     "output_type": "execute_result"
    }
   ],
   "source": [
    "s1[-1::-1] # Reverse the string"
   ]
  },
  {
   "cell_type": "code",
   "execution_count": 18,
   "metadata": {},
   "outputs": [
    {
     "data": {
      "text/plain": [
       "'Pto'"
      ]
     },
     "execution_count": 18,
     "metadata": {},
     "output_type": "execute_result"
    }
   ],
   "source": [
    "# Access the charactrers in string alternate\n",
    "# python -- pto\n",
    "s1[::2]"
   ]
  },
  {
   "cell_type": "code",
   "execution_count": 19,
   "metadata": {},
   "outputs": [
    {
     "data": {
      "text/plain": [
       "'nhy'"
      ]
     },
     "execution_count": 19,
     "metadata": {},
     "output_type": "execute_result"
    }
   ],
   "source": [
    "# Access the alternate characters from reverse direction\n",
    "# python -- nhy\n",
    "s1[::-2]\n"
   ]
  },
  {
   "cell_type": "code",
   "execution_count": 17,
   "metadata": {},
   "outputs": [
    {
     "data": {
      "text/plain": [
       "'Ph'"
      ]
     },
     "execution_count": 17,
     "metadata": {},
     "output_type": "execute_result"
    }
   ],
   "source": [
    "s1[::3]"
   ]
  },
  {
   "cell_type": "markdown",
   "metadata": {},
   "source": [
    "### Functions with String Operations"
   ]
  },
  {
   "cell_type": "code",
   "execution_count": 22,
   "metadata": {},
   "outputs": [
    {
     "data": {
      "text/plain": [
       "'nohtyp'"
      ]
     },
     "execution_count": 22,
     "metadata": {},
     "output_type": "execute_result"
    }
   ],
   "source": [
    "# Reverse the string\n",
    "def reverseStr(s):\n",
    "    return s[-1::-1]\n",
    "reverseStr('python')"
   ]
  },
  {
   "cell_type": "code",
   "execution_count": 24,
   "metadata": {},
   "outputs": [
    {
     "name": "stdout",
     "output_type": "stream",
     "text": [
      "False\n",
      "True\n"
     ]
    }
   ],
   "source": [
    "# To check the given string is palindrome or not a palindrome\n",
    "def isPalindrome(s):\n",
    "    if s == s[-1::-1]:\n",
    "        return True\n",
    "    return False\n",
    "print(isPalindrome('python'))\n",
    "print(isPalindrome('madam'))"
   ]
  },
  {
   "cell_type": "code",
   "execution_count": 28,
   "metadata": {},
   "outputs": [
    {
     "name": "stdout",
     "output_type": "stream",
     "text": [
      "P T "
     ]
    }
   ],
   "source": [
    "# Function to print the upper case characters\n",
    "# Example : PyThon -- P T\n",
    "\n",
    "# ASCII\n",
    "# A - Z  : 65 - 90\n",
    "# a - z  : 97 - 122\n",
    "# 0 - 9  : 48 - 57\n",
    "# space  : 32\n",
    "\n",
    "def printUpper(s):\n",
    "    for i in range(len(s)):\n",
    "        if ord(s[i]) >= 65 and ord(s[i]) <= 90:\n",
    "            print(s[i],end =' ')\n",
    "    return\n",
    "printUpper('PyThon') # P T"
   ]
  },
  {
   "cell_type": "code",
   "execution_count": 27,
   "metadata": {},
   "outputs": [
    {
     "data": {
      "text/plain": [
       "65"
      ]
     },
     "execution_count": 27,
     "metadata": {},
     "output_type": "execute_result"
    }
   ],
   "source": [
    "ord('A') # ord() function gives the output as number which is equal to ASCII number"
   ]
  },
  {
   "cell_type": "code",
   "execution_count": 42,
   "metadata": {},
   "outputs": [
    {
     "data": {
      "text/plain": [
       "'samecount'"
      ]
     },
     "execution_count": 42,
     "metadata": {},
     "output_type": "execute_result"
    }
   ],
   "source": [
    "# Function t written the output as \"samecount\" or \"Programming\"\n",
    "# samecount -- Lower andUpper chars have same count\n",
    "#Programming -- count of Lower and upper case is not same\n",
    "\n",
    "# Example #1 : PyThOn -- 3  P T O\n",
    "#                     -- 3 y h n\n",
    "# Output : samecount\n",
    "\n",
    "# Example #2 : PythoN -- 2 P N\n",
    "#\n",
    "# Output : Programming\n",
    "\n",
    "def findCharCount(s):\n",
    "    cntUpper = 0\n",
    "    cntLower = 0\n",
    "    for i in range(len(s)):\n",
    "        if ord(s[i]) >= 65 and ord(s[i]) <= 90 :\n",
    "            cntUpper += 1 # cntUpper = cntUpper  1\n",
    "        elif  ord (s[i]) >= 97:\n",
    "            cntLower +=1 # cntLower = cntLower + 1\n",
    "    if cntLower == cntUpper:\n",
    "        return \"samecount\"\n",
    "    return \"Programming\"\n",
    "findCharCount('PyThoN')"
   ]
  },
  {
   "cell_type": "code",
   "execution_count": 43,
   "metadata": {},
   "outputs": [
    {
     "name": "stdout",
     "output_type": "stream",
     "text": [
      "1 8 8 9 "
     ]
    }
   ],
   "source": [
    "# Function the digits from the given string\n",
    "# Example #1:\n",
    "# Input : Appli18cation89\n",
    "# Output : 1 8 8 9\n",
    "\n",
    "def extractDigits(s):\n",
    "    for i in range(len(s)):\n",
    "        if ord(s[i]) >= 48 and ord(s[i]) <= 57:\n",
    "            print(s[i],end=' ')\n",
    "    return\n",
    "extractDigits('Applicat18cation89')"
   ]
  },
  {
   "cell_type": "code",
   "execution_count": 46,
   "metadata": {},
   "outputs": [
    {
     "data": {
      "text/plain": [
       "26"
      ]
     },
     "execution_count": 46,
     "metadata": {},
     "output_type": "execute_result"
    }
   ],
   "source": [
    "# Function to add the Digits of the string\n",
    "# Example #1:\n",
    "# Input : Appli18cation89\n",
    "# Output : 26 (1+8+8+9)\n",
    "\n",
    "def sumOfDigits(s):\n",
    "    sum = 0\n",
    "    for i in range(len(s)):\n",
    "        if ord(s[i]) >= 48 and ord(s[i]) <= 57:\n",
    "            sum = sum + int (s[i])\n",
    "            \n",
    "    return sum\n",
    "sumOfDigits('Appli18cation89')\n"
   ]
  },
  {
   "cell_type": "code",
   "execution_count": 50,
   "metadata": {},
   "outputs": [
    {
     "name": "stdout",
     "output_type": "stream",
     "text": [
      "MADE"
     ]
    }
   ],
   "source": [
    "# Function to specific word in Upper case\n",
    "# Example #1:\n",
    "# Input : Python Made Easy\n",
    "# Output :MADE\n",
    "\n",
    "# Example #2:\n",
    "# Input :Learn Python Strings\n",
    "# Output : PYTHON\n",
    "\n",
    "def wordUpperCase(s):\n",
    "    cntSpace = 0\n",
    "    for i in range(len(s)):\n",
    "        if ord(s[i]) == 32 :\n",
    "            cntSpace += 1\n",
    "        if cntSpace == 1:\n",
    "            if ord(s[i]) >= 65 and ord(s[i]) <= 90:\n",
    "                print(s[i],end='')\n",
    "            elif ord(s[i]) >= 97 and ord(s[i]) <=122:\n",
    "                print(chr(ord(s[i])-32),end='')\n",
    "        if cntSpace == 2:\n",
    "            break\n",
    "    return      \n",
    "wordUpperCase('python Made Easy') # MADE    "
   ]
  },
  {
   "cell_type": "markdown",
   "metadata": {},
   "source": [
    "### List\n",
    "- One of the Data Structure in Python\n",
    "- Data Structure means to store, sort and search Options\n",
    "- It's one common Data Structure in python, the items of the list seperated by comma and enclosed in square brackets[]\n",
    "   - Example \n",
    "       - list1 =[1,2,3,4,5]\n",
    "       - list2 = [\"Gitam\",1,2,1.89,\"Vizag\"]"
   ]
  },
  {
   "cell_type": "code",
   "execution_count": 51,
   "metadata": {},
   "outputs": [
    {
     "name": "stdout",
     "output_type": "stream",
     "text": [
      "[1, 8, 16, 9, 2]\n",
      "1\n",
      "8\n",
      "2\n",
      "9\n",
      "[16, 9, 2]\n",
      "[16, 9]\n"
     ]
    }
   ],
   "source": [
    "li = [1,8,16,9,2]\n",
    "print(li)# will print the all the list items\n",
    "print(li[0])# Access the first item of the list\n",
    "print(li[1])# Access the second item of the list\n",
    "print(li[-1])# Access the Last item of the list\n",
    "print(li[-2])# Access the Last Second item of the list\n",
    "print(li[2:])\n",
    "print(li[2:4])"
   ]
  },
  {
   "cell_type": "code",
   "execution_count": 52,
   "metadata": {},
   "outputs": [
    {
     "name": "stdout",
     "output_type": "stream",
     "text": [
      "['Gitam', 1582, 2018, 2019, 'Vizag']\n",
      "['Gitam', 1234, 2018, 2019, 'Vizag']\n"
     ]
    }
   ],
   "source": [
    "li = [\"Gitam\",1582,2018,2019,\"Vizag\"]\n",
    "print(li)\n",
    "#Update the list item with value using index\n",
    "li[1] = 1234\n",
    "print(li)"
   ]
  },
  {
   "cell_type": "code",
   "execution_count": 53,
   "metadata": {},
   "outputs": [
    {
     "name": "stdout",
     "output_type": "stream",
     "text": [
      "['Gitam', 1234, 2018, 'Vizag']\n"
     ]
    }
   ],
   "source": [
    "# Delete the List item from the list\n",
    "del li[3]\n",
    "print(li)"
   ]
  },
  {
   "cell_type": "code",
   "execution_count": 55,
   "metadata": {},
   "outputs": [
    {
     "name": "stdout",
     "output_type": "stream",
     "text": [
      "5\n",
      "[1, 2, 3, 4, 5, 1, 2, 3, 4, 5]\n",
      "True\n",
      "False\n",
      "12345\n",
      "12345"
     ]
    }
   ],
   "source": [
    "# Basic list operations \n",
    "li = [1,2,3,4,5]\n",
    "# Len of the list\n",
    "print(len(li))\n",
    "# List Repitation\n",
    "print(li * 2)\n",
    "# To know certain item is present in the list or not\n",
    "print(4 in li)\n",
    "print(10 in li)\n",
    "# Access the list items from the Iterations\n",
    "# 1 way to define\n",
    "for i in range(len(li)):\n",
    "    print (li[i],end='')\n",
    "print()    \n",
    "# 2 way to print the list items\n",
    "for i in li:\n",
    "    print(i,end='')"
   ]
  },
  {
   "cell_type": "code",
   "execution_count": 56,
   "metadata": {},
   "outputs": [
    {
     "name": "stdout",
     "output_type": "stream",
     "text": [
      "25\n",
      "1\n",
      "56\n",
      "11\n"
     ]
    }
   ],
   "source": [
    "# Basic list Functions\n",
    "li = [1,9,16,25,5]\n",
    "print(max(li)) # max number in list\n",
    "print(min(li)) # min number in list\n",
    "print(sum(li)) # summ of all list items\n",
    "print(sum(li)//len(li)) # Avg of list items"
   ]
  },
  {
   "cell_type": "code",
   "execution_count": 60,
   "metadata": {},
   "outputs": [
    {
     "data": {
      "text/plain": [
       "2"
      ]
     },
     "execution_count": 60,
     "metadata": {},
     "output_type": "execute_result"
    }
   ],
   "source": [
    "# Methods of list\n",
    "li = [1,9,16,25,5]\n",
    "li.append(29) # Add the new item at the end of the list\n",
    "li.insert(2,56) # Add the new item at the specific index\n",
    "li.append(9)\n",
    "li.count(9) # returns the value how many object repeated\n",
    "li.index(56) # return the value of index"
   ]
  },
  {
   "cell_type": "code",
   "execution_count": 62,
   "metadata": {},
   "outputs": [
    {
     "data": {
      "text/plain": [
       "[1, 9, 9, 16, 25, 29]"
      ]
     },
     "execution_count": 62,
     "metadata": {},
     "output_type": "execute_result"
    }
   ],
   "source": [
    "# method of list Object\n",
    "li.sort() # Sorts the list in ascending order\n",
    "li.pop() # last index value\n",
    "li.pop(1) # Removes the items from the specified index\n",
    "li"
   ]
  },
  {
   "cell_type": "code",
   "execution_count": 69,
   "metadata": {},
   "outputs": [
    {
     "name": "stdout",
     "output_type": "stream",
     "text": [
      "[1, 5, 9, 7, 1, 25, 4, 5]\n"
     ]
    }
   ],
   "source": [
    "li1 = [1,5,9,7]\n",
    "li = [1,25,4,5]\n",
    "li1.extend(li)\n",
    "print(li1)"
   ]
  },
  {
   "cell_type": "code",
   "execution_count": null,
   "metadata": {},
   "outputs": [],
   "source": []
  },
  {
   "cell_type": "code",
   "execution_count": 70,
   "metadata": {},
   "outputs": [
    {
     "name": "stdout",
     "output_type": "stream",
     "text": [
      "45\n",
      "22\n"
     ]
    }
   ],
   "source": [
    "# function to return a large number frm the list\n",
    "def largeNumber(li):\n",
    "    li.sort()\n",
    "    return li[-1]\n",
    "def genericLarge(li,n):\n",
    "    li.sort()\n",
    "    return li[-n]\n",
    "li = [19,1,25,6,9,45,22]\n",
    "print(largeNumber(li))\n",
    "print(genericLarge(li,3))"
   ]
  },
  {
   "cell_type": "code",
   "execution_count": 71,
   "metadata": {},
   "outputs": [
    {
     "name": "stdout",
     "output_type": "stream",
     "text": [
      "1\n",
      "19\n"
     ]
    }
   ],
   "source": [
    "# Function to find least and generic Least number from the list\n",
    "def leastNumber(li):\n",
    "    li.sort()\n",
    "    return li[0]\n",
    "def genericLeastNumber(li,n):\n",
    "    li.sort()\n",
    "    return li[n-1]\n",
    "li = [19,1,25,6,9,45,22]\n",
    "print(leastNumber(li))\n",
    "print(genericLeastNumber(li,4))"
   ]
  },
  {
   "cell_type": "markdown",
   "metadata": {},
   "source": [
    "### File Handling in Python\n",
    "- File - Document which contains some information and resides on permanent devices\n",
    "- Different types of File -- .txt,.pdf,.doc,.ppf and etc....\n",
    "- Input -- keyword\n",
    "- Output - File system"
   ]
  },
  {
   "cell_type": "code",
   "execution_count": 75,
   "metadata": {},
   "outputs": [
    {
     "name": "stdout",
     "output_type": "stream",
     "text": [
      "File is successfully created and Data has inserted\n"
     ]
    }
   ],
   "source": [
    "# Function to create File and write some data to the file\n",
    "# mode -- w( It creates the file and write to the some data )\n",
    "#       If the file already exists with same name then it will rewrite the data\n",
    "#   -- append the data at end of the previous line\n",
    "def createFile(filename):\n",
    "    f = open(filename,'w')\n",
    "    for i in range(10):\n",
    "        f.write(' This is %d Line \\n' %i)\n",
    "    print('File is successfully created and Data has inserted')\n",
    "    return\n",
    "createFile('data.txt')"
   ]
  },
  {
   "cell_type": "code",
   "execution_count": 81,
   "metadata": {},
   "outputs": [
    {
     "name": "stdout",
     "output_type": "stream",
     "text": [
      "Program Completed Successfully\n"
     ]
    }
   ],
   "source": [
    "# To append the data\n",
    "def appendMode(filename):\n",
    "    f = open(filename,'a')\n",
    "    f.write(' Gitam Vizag \\n' )\n",
    "    f.write('python programming')\n",
    "    print('Program Completed Successfully')\n",
    "    return\n",
    "appendMode('data.txt')"
   ]
  },
  {
   "cell_type": "code",
   "execution_count": 87,
   "metadata": {
    "scrolled": true
   },
   "outputs": [
    {
     "name": "stdout",
     "output_type": "stream",
     "text": [
      " This is 0 Line \n",
      " This is 1 Line \n",
      " This is 2 Line \n",
      " This is 3 Line \n",
      " This is 4 Line \n",
      " This is 5 Line \n",
      " This is 6 Line \n",
      " This is 7 Line \n",
      " This is 8 Line \n",
      " This is 9 Line \n",
      " Gitam Vizag \n",
      "python programming Gitam Vizag \n",
      "python programming\n"
     ]
    }
   ],
   "source": [
    "# Function to read the file\n",
    "def readFileData(filename):\n",
    "    f = open(filename,'r')\n",
    "    if f.mode == 'r':\n",
    "        a = f.read()\n",
    "        print(a)\n",
    "    f.close()\n",
    "    return\n",
    "readFileData('data.txt')"
   ]
  },
  {
   "cell_type": "code",
   "execution_count": null,
   "metadata": {},
   "outputs": [],
   "source": [
    "# Analysis on the file -- word count , char counr , Digit count\n"
   ]
  },
  {
   "cell_type": "code",
   "execution_count": 76,
   "metadata": {},
   "outputs": [
    {
     "data": {
      "text/plain": [
       "'C:\\\\Users\\\\SRIKANTH\\\\Desktop\\\\Problem solving and programming'"
      ]
     },
     "execution_count": 76,
     "metadata": {},
     "output_type": "execute_result"
    }
   ],
   "source": [
    "pwd"
   ]
  },
  {
   "cell_type": "code",
   "execution_count": 89,
   "metadata": {},
   "outputs": [
    {
     "name": "stdout",
     "output_type": "stream",
     "text": [
      "['python', 'programming']\n"
     ]
    }
   ],
   "source": [
    "# Analysis on the file -- word count , char counr , Digit count\n",
    "s1 = \"python programming\"\n",
    "print(s1.split())"
   ]
  },
  {
   "cell_type": "code",
   "execution_count": 90,
   "metadata": {},
   "outputs": [
    {
     "data": {
      "text/plain": [
       "48"
      ]
     },
     "execution_count": 90,
     "metadata": {},
     "output_type": "execute_result"
    }
   ],
   "source": [
    "# word count -- Input file\n",
    "def wordCount(filename):\n",
    "    with open(filename,'r') as f:\n",
    "        if f.mode == 'r':\n",
    "            a= f.read()\n",
    "            li = a.split() # Divides the words by using while white spaces\n",
    "    return len(li)\n",
    "wordCount('data.txt')"
   ]
  },
  {
   "cell_type": "code",
   "execution_count": 95,
   "metadata": {},
   "outputs": [
    {
     "data": {
      "text/plain": [
       "10"
      ]
     },
     "execution_count": 95,
     "metadata": {},
     "output_type": "execute_result"
    }
   ],
   "source": [
    "# specific word count from the file\n",
    "# Example #1:\n",
    "# Input -- This                           if the input file is -- data.txt then these are the excepted output \n",
    "# Output -- 10                            it may differes from the file to another file \n",
    "\n",
    "# Example #2:\n",
    "# Input -- Gitam\n",
    "# Output -- 1 \n",
    "\n",
    "def specificWordCount(filename,word):\n",
    "    with open (filename,'r') as f:\n",
    "        if f.mode == 'r':\n",
    "            a = f.read()\n",
    "            li = a.split()\n",
    "    return li.count(word)\n",
    "specificWordCount('data.txt','This')\n",
    "            "
   ]
  },
  {
   "cell_type": "code",
   "execution_count": 100,
   "metadata": {},
   "outputs": [
    {
     "data": {
      "text/plain": [
       "234"
      ]
     },
     "execution_count": 100,
     "metadata": {},
     "output_type": "execute_result"
    }
   ],
   "source": [
    "# Function  to find the character count from the input file\n",
    "def charCount(filename):\n",
    "    with open(filename,'r') as f:\n",
    "        if f.mode == 'r':\n",
    "            a = f.read()\n",
    "            li = list(a)  # Converts the input string int sequence of characters and finding the len of list becomes as character \n",
    "    return len(li)      # count of the input file\n",
    "charCount('data.txt')    "
   ]
  },
  {
   "cell_type": "code",
   "execution_count": 102,
   "metadata": {},
   "outputs": [
    {
     "name": "stdout",
     "output_type": "stream",
     "text": [
      "['p', 'y', 't', 'h', 'o', 'n', ' ', 'p', 'r', 'o', 'g', 'r', 'a', 'm', 'm', 'i', 'n', 'g']\n"
     ]
    }
   ],
   "source": [
    "s = \"python programming\"\n",
    "li = list(s)\n",
    "print(li)\n"
   ]
  },
  {
   "cell_type": "code",
   "execution_count": 104,
   "metadata": {},
   "outputs": [
    {
     "data": {
      "text/plain": [
       "13"
      ]
     },
     "execution_count": 104,
     "metadata": {},
     "output_type": "execute_result"
    }
   ],
   "source": [
    "# Find no of lines or rows in the given input stream\n",
    "def findLineCount(filename):\n",
    "    with open(filename,'r') as f:\n",
    "        if f.mode == 'r' :\n",
    "            a = f.read()\n",
    "            li = a.split('\\n')\n",
    "    return len(li)\n",
    "findLineCount('data.txt')"
   ]
  },
  {
   "cell_type": "code",
   "execution_count": 107,
   "metadata": {},
   "outputs": [
    {
     "data": {
      "text/plain": [
       "'Upper case : 0 Lower case : 221 Digit :  0'"
      ]
     },
     "execution_count": 107,
     "metadata": {},
     "output_type": "execute_result"
    }
   ],
   "source": [
    "# Function to find the upper and lower case characters\n",
    "# from the input stream\n",
    "def caseCount(filename):\n",
    "    cntUpper = 0\n",
    "    cntLower = 0\n",
    "    cntDigit = 0\n",
    "    with open(filename,'r') as f:\n",
    "        if f.mode == 'r' :\n",
    "            a = f.read()\n",
    "            li = a.split('\\n')\n",
    "    for i in range(len(li)): \n",
    "        for i in range(len(s)):\n",
    "            if ord(s[i]) >= 65 and ord(s[i]) <= 90 :\n",
    "                cntUpper += 1 # cntUpper = cntUpper  1\n",
    "            elif  ord (s[i]) >= 97:\n",
    "                cntLower +=1 # cntLower = cntLower + 1\n",
    "            elif ord(s[i]) >= 48 and ord(s[i]) <= 57:   \n",
    "                cntDigit +=1\n",
    "    output = 'Upper case : {0} Lower case : {1} Digit :  {2}' .format(cntUpper,cntLower,cntDigit) \n",
    "    return output\n",
    "caseCount(\"data.txt\")   "
   ]
  },
  {
   "cell_type": "code",
   "execution_count": null,
   "metadata": {},
   "outputs": [],
   "source": [
    "for i in range(len(li)): \n",
    "        for i in range(len(s)):\n",
    "            if ord(s[i]) >= 65 and ord(s[i]) <= 90 :\n",
    "                cntUpper += 1 # cntUpper = cntUpper  1\n",
    "            elif  ord (s[i]) >= 97:\n",
    "                cntLower +=1 # cntLower = cntLower + 1\n",
    "            elif ord(s[i]) >= 48 and ord(s[i]) <= 57:   \n",
    "                cntDigit +=1"
   ]
  },
  {
   "cell_type": "markdown",
   "metadata": {},
   "source": [
    "### String  Boolean Function \n",
    "- True or False\n",
    "- isupper() -- True if the string have all characters upper case\n",
    "- islower() -- True if the string have all characters Lower case\n",
    "- istitle() -- True if the string in title case\n",
    "- isnumeric() -- True if the string is numeric\n",
    "- isalpha() -- True if the string only alaphabets\n",
    "- isspace() -- True if the string is empty"
   ]
  },
  {
   "cell_type": "code",
   "execution_count": 2,
   "metadata": {},
   "outputs": [
    {
     "name": "stdout",
     "output_type": "stream",
     "text": [
      "True\n",
      "False\n"
     ]
    }
   ],
   "source": [
    "s1 = 'python'\n",
    "print(s1.islower())\n",
    "print(s1.isupper())"
   ]
  },
  {
   "cell_type": "code",
   "execution_count": 3,
   "metadata": {},
   "outputs": [
    {
     "name": "stdout",
     "output_type": "stream",
     "text": [
      "True\n"
     ]
    }
   ],
   "source": [
    "s1 = \" Python Programming\"\n",
    "print(s1.istitle())"
   ]
  },
  {
   "cell_type": "code",
   "execution_count": 4,
   "metadata": {},
   "outputs": [
    {
     "name": "stdout",
     "output_type": "stream",
     "text": [
      "True\n",
      "False\n"
     ]
    }
   ],
   "source": [
    "s1 = \"123456\"\n",
    "s2 = \"py123\"\n",
    "print(s1.isnumeric())\n",
    "print(s2.isnumeric())"
   ]
  },
  {
   "cell_type": "code",
   "execution_count": 5,
   "metadata": {},
   "outputs": [
    {
     "name": "stdout",
     "output_type": "stream",
     "text": [
      "False\n",
      "True\n"
     ]
    }
   ],
   "source": [
    "s1 = \"123456\"\n",
    "s2 = \"python\"\n",
    "print(s1.isalpha())\n",
    "print(s2.isalpha())"
   ]
  },
  {
   "cell_type": "code",
   "execution_count": 6,
   "metadata": {},
   "outputs": [
    {
     "name": "stdout",
     "output_type": "stream",
     "text": [
      "True\n",
      "False\n"
     ]
    }
   ],
   "source": [
    "s1 = ' '\n",
    "s2 = \" pyt123\"\n",
    "print(s1.isspace())\n",
    "print(s2.isspace())"
   ]
  },
  {
   "cell_type": "code",
   "execution_count": null,
   "metadata": {},
   "outputs": [],
   "source": []
  }
 ],
 "metadata": {
  "kernelspec": {
   "display_name": "Python 3",
   "language": "python",
   "name": "python3"
  },
  "language_info": {
   "codemirror_mode": {
    "name": "ipython",
    "version": 3
   },
   "file_extension": ".py",
   "mimetype": "text/x-python",
   "name": "python",
   "nbconvert_exporter": "python",
   "pygments_lexer": "ipython3",
   "version": "3.7.3"
  }
 },
 "nbformat": 4,
 "nbformat_minor": 2
}
