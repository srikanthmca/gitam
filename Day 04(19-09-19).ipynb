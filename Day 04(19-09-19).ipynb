{
 "cells": [
  {
   "cell_type": "markdown",
   "metadata": {},
   "source": [
    "### String Methods\n",
    "- split() -- Returns the list of Strings seperated by Whitespace\n",
    "- replace() -- Returns the String replaced by String/character\n",
    "- join() -- Concatination of two Strings"
   ]
  },
  {
   "cell_type": "code",
   "execution_count": 1,
   "metadata": {},
   "outputs": [
    {
     "name": "stdout",
     "output_type": "stream",
     "text": [
      "['Python', 'Programming', 'Learn', 'Made', 'Easy']\n"
     ]
    }
   ],
   "source": [
    "s1 = \"Python Programming Learn Made Easy \"\n",
    "li = s1.split() # Default is white space\n",
    "print(li)"
   ]
  },
  {
   "cell_type": "code",
   "execution_count": 2,
   "metadata": {},
   "outputs": [
    {
     "name": "stdout",
     "output_type": "stream",
     "text": [
      "['Python Progr', 'mming Le', 'rn M', 'de E', 'sy ']\n"
     ]
    }
   ],
   "source": [
    "s1 = \"Python Programming Learn Made Easy \"\n",
    "li = s1.split('a')\n",
    "print(li)"
   ]
  },
  {
   "cell_type": "code",
   "execution_count": 3,
   "metadata": {},
   "outputs": [
    {
     "name": "stdout",
     "output_type": "stream",
     "text": [
      "Python-Programming-Learn-Made-Easy-\n"
     ]
    }
   ],
   "source": [
    "s1 = \"Python Programming Learn Made Easy \"\n",
    "print(s1.replace(' ','-'))"
   ]
  },
  {
   "cell_type": "code",
   "execution_count": 4,
   "metadata": {},
   "outputs": [
    {
     "name": "stdout",
     "output_type": "stream",
     "text": [
      "Python Progr@mming Le@rn M@de E@sy \n"
     ]
    }
   ],
   "source": [
    "s1 = \"Python Programming Learn Made Easy \"\n",
    "print(s1.replace('a','@'))"
   ]
  },
  {
   "cell_type": "code",
   "execution_count": 10,
   "metadata": {},
   "outputs": [
    {
     "name": "stdout",
     "output_type": "stream",
     "text": [
      "P y t h o n   P r o g r a m m i n g   L e a r n   M a d e   E a s y  \n"
     ]
    }
   ],
   "source": [
    "s1 = \"Python Programming Learn Made Easy \"\n",
    "print( \" \".join(s1))"
   ]
  },
  {
   "cell_type": "markdown",
   "metadata": {},
   "source": [
    "### String Formating\n",
    "- Classic version\n",
    "- Current Version Python"
   ]
  },
  {
   "cell_type": "code",
   "execution_count": 14,
   "metadata": {},
   "outputs": [
    {
     "name": "stdout",
     "output_type": "stream",
     "text": [
      "Python Programming\n"
     ]
    }
   ],
   "source": [
    "# Classic Version (c or C++)\n",
    "li = [\"Python\",\"Programming\"]\n",
    "print('%s %s'% (li[0],li[1]))"
   ]
  },
  {
   "cell_type": "code",
   "execution_count": 15,
   "metadata": {},
   "outputs": [
    {
     "name": "stdout",
     "output_type": "stream",
     "text": [
      "1 2 3 4\n"
     ]
    }
   ],
   "source": [
    "li = [1,2,3,4]\n",
    "print('%d %d %d %d' % (li[0],li[1],li[2],li[3]))"
   ]
  },
  {
   "cell_type": "code",
   "execution_count": 16,
   "metadata": {},
   "outputs": [
    {
     "name": "stdout",
     "output_type": "stream",
     "text": [
      " List Item 0 : Python \n",
      "List Item 1 : Programming\n"
     ]
    }
   ],
   "source": [
    "# .format\n",
    "li = [\"Python\",\"Programming\"]\n",
    "print(\" List Item 0 : {0} \\nList Item 1 : {1}\".format(li[0],li[1]))\n"
   ]
  },
  {
   "cell_type": "code",
   "execution_count": 19,
   "metadata": {},
   "outputs": [
    {
     "name": "stdout",
     "output_type": "stream",
     "text": [
      "1 2 3 4\n"
     ]
    }
   ],
   "source": [
    "li = [1,2,3,4]\n",
    "print('{0} {1} {2} {3}'.format(li[0],li[1],li[2],li[3]))"
   ]
  },
  {
   "cell_type": "markdown",
   "metadata": {},
   "source": [
    "### Dtaa Structures\n",
    "- List\n",
    "- Tuples\n",
    "- Dictionaries"
   ]
  },
  {
   "cell_type": "markdown",
   "metadata": {},
   "source": [
    "### Dictionaries\n",
    "- it works on the concept of Unique Data\n",
    "- Key,Value is the Unique identifier a value\n",
    "- Each key is seperated from value colon(:)\n",
    "- Each key and value is seperated by Comma(,)\n",
    "- Dictionaries are enclosed with Curly Brackets({})"
   ]
  },
  {
   "cell_type": "code",
   "execution_count": 20,
   "metadata": {},
   "outputs": [
    {
     "name": "stdout",
     "output_type": "stream",
     "text": [
      "{'Name': 'Gitam', 'EmailId': 'gitamVizag@gmail.com', 'Address': 'Vizag'}\n"
     ]
    }
   ],
   "source": [
    "d1 = {\"Name\":\"Gitam\",\"EmailId\":\"gitamVizag@gmail.com\",\"Address\":\"Vizag\"}\n",
    "print(d1)"
   ]
  },
  {
   "cell_type": "code",
   "execution_count": 21,
   "metadata": {},
   "outputs": [
    {
     "data": {
      "text/plain": [
       "'gitamVizag@gmail.com'"
      ]
     },
     "execution_count": 21,
     "metadata": {},
     "output_type": "execute_result"
    }
   ],
   "source": [
    "d1[\"EmailId\"] # Access the value using key"
   ]
  },
  {
   "cell_type": "code",
   "execution_count": 25,
   "metadata": {},
   "outputs": [
    {
     "name": "stdout",
     "output_type": "stream",
     "text": [
      "{'Name': 'Gitam', 'EmailId': 'Gitam@gmail.com', 'Address': 'Vizag'}\n"
     ]
    }
   ],
   "source": [
    "d1[\"EmailId\"] = \"Gitam@gmail.com\" # Update the value using key\n",
    "print(d1)"
   ]
  },
  {
   "cell_type": "code",
   "execution_count": 31,
   "metadata": {},
   "outputs": [
    {
     "name": "stdout",
     "output_type": "stream",
     "text": [
      "{'Name': 'SRIKANTH', 'EmailId': 'Gitam@gmail.com', 'Address': 'Vizag', ('Name', 'EmailId'): {'SRIKANTH', 'srikanthbisai@gmail.com'}}\n"
     ]
    }
   ],
   "source": [
    "d1[\"Name\"] = \"SRIKANTH\" \n",
    "print(d1)\n"
   ]
  },
  {
   "cell_type": "code",
   "execution_count": 34,
   "metadata": {},
   "outputs": [
    {
     "name": "stdout",
     "output_type": "stream",
     "text": [
      "dict_keys(['Name', 'EmailId', 'Address', ('Name', 'EmailId')])\n"
     ]
    }
   ],
   "source": [
    "li = d1.keys() # All the keys of Dict object\n",
    "print(li)"
   ]
  },
  {
   "cell_type": "code",
   "execution_count": 35,
   "metadata": {},
   "outputs": [
    {
     "data": {
      "text/plain": [
       "dict_values(['SRIKANTH', 'Gitam@gmail.com', 'Vizag', {'SRIKANTH', 'srikanthbisai@gmail.com'}])"
      ]
     },
     "execution_count": 35,
     "metadata": {},
     "output_type": "execute_result"
    }
   ],
   "source": [
    "d1.values() # ALl the values of dict object"
   ]
  },
  {
   "cell_type": "code",
   "execution_count": 36,
   "metadata": {},
   "outputs": [],
   "source": [
    "del d1[\"Address\"] # Only deletes one key and value"
   ]
  },
  {
   "cell_type": "code",
   "execution_count": 37,
   "metadata": {},
   "outputs": [],
   "source": [
    "del d1 # to delete the entire dictonary"
   ]
  },
  {
   "cell_type": "markdown",
   "metadata": {},
   "source": [
    "### Contact Applications\n",
    "- Add Contact Details\n",
    "- Search the contact Details from Dict \n",
    "- List all the contact details (Merge/Import)\n",
    "   - Name 1 : Value\n",
    "   - Name 2 : Value\n",
    "   - Modify or Update the Contact details\n",
    "   - Delete the contact details"
   ]
  },
  {
   "cell_type": "code",
   "execution_count": 47,
   "metadata": {},
   "outputs": [
    {
     "name": "stdout",
     "output_type": "stream",
     "text": [
      "contact Details are added successfully\n",
      "contact Details are added successfully\n",
      "contact Details are added successfully\n"
     ]
    }
   ],
   "source": [
    "Contacts  = {} # Empty Dict object\n",
    "# Let's Create a function to Add Contact Details\n",
    "def addContact(name,phone):\n",
    "    if name not in Contacts: # cond to check name is exists or not\n",
    "        Contacts[name] = phone\n",
    "        print('contact Details are added successfully')\n",
    "    else:\n",
    "        print('Name is alredy exists')\n",
    "    return\n",
    "addContact('Dinesh','9848022338')\n",
    "addContact('Ramesh','9848022338')\n",
    "addContact('suresh','9848022338')"
   ]
  },
  {
   "cell_type": "code",
   "execution_count": 60,
   "metadata": {},
   "outputs": [
    {
     "data": {
      "text/plain": [
       "{'Dinesh': '9848022338',\n",
       " 'Ramesh': '9848022338',\n",
       " 'suresh': '9848022338',\n",
       " ' Gitam': 9052302648,\n",
       " 'Anil': 9292929292,\n",
       " 'python': 1234567899}"
      ]
     },
     "execution_count": 60,
     "metadata": {},
     "output_type": "execute_result"
    }
   ],
   "source": [
    "Contacts"
   ]
  },
  {
   "cell_type": "code",
   "execution_count": null,
   "metadata": {
    "collapsed": true
   },
   "outputs": [],
   "source": []
  },
  {
   "cell_type": "code",
   "execution_count": 55,
   "metadata": {},
   "outputs": [
    {
     "name": "stdout",
     "output_type": "stream",
     "text": [
      "Dinesh :  9848022338\n",
      "Ramesh :  9848022338\n",
      "suresh :  9848022338\n"
     ]
    }
   ],
   "source": [
    "def searchContact(name):\n",
    "    if name in Contacts:\n",
    "        print(name, \": \",Contacts[name])\n",
    "    else: \n",
    "        print('{0} does not present'.format (name))\n",
    "        # print(' %s does not present' % name)\n",
    "    return   \n",
    "searchContact('Dinesh')\n",
    "searchContact('Ramesh')\n",
    "searchContact('suresh')"
   ]
  },
  {
   "cell_type": "code",
   "execution_count": 61,
   "metadata": {},
   "outputs": [
    {
     "name": "stdout",
     "output_type": "stream",
     "text": [
      "3 Contacts are added\n"
     ]
    }
   ],
   "source": [
    "# Import new contact details\n",
    "# Merge the previous details with new details\n",
    "def importContacts(newContacts):\n",
    "    Contacts.update(newContacts)\n",
    "    print(len(newContacts.keys()),'Contacts are added')\n",
    "    return\n",
    "newContacts = { ' Gitam': 9052302648,'Anil':9292929292,'python':1234567899 }\n",
    "importContacts(newContacts)\n"
   ]
  },
  {
   "cell_type": "code",
   "execution_count": 62,
   "metadata": {},
   "outputs": [
    {
     "data": {
      "text/plain": [
       "{'Dinesh': '9848022338',\n",
       " 'Ramesh': '9848022338',\n",
       " 'suresh': '9848022338',\n",
       " ' Gitam': 9052302648,\n",
       " 'Anil': 9292929292,\n",
       " 'python': 1234567899}"
      ]
     },
     "execution_count": 62,
     "metadata": {},
     "output_type": "execute_result"
    }
   ],
   "source": [
    "Contacts\n"
   ]
  },
  {
   "cell_type": "code",
   "execution_count": 64,
   "metadata": {},
   "outputs": [
    {
     "name": "stdout",
     "output_type": "stream",
     "text": [
      "suresh Updated successfully\n",
      "Ajay Not exists\n"
     ]
    }
   ],
   "source": [
    "def modifyContacts(name,phone):\n",
    "    if name in Contacts:\n",
    "        Contacts[name] = phone\n",
    "        print(name,\"Updated successfully\")\n",
    "    else:\n",
    "        print(name,\"Not exists\")\n",
    "    return\n",
    "modifyContacts('suresh',9876543211)\n",
    "modifyContacts('Ajay',8888888888)\n"
   ]
  },
  {
   "cell_type": "code",
   "execution_count": 65,
   "metadata": {},
   "outputs": [
    {
     "name": "stdout",
     "output_type": "stream",
     "text": [
      "vinay Not Present\n"
     ]
    }
   ],
   "source": [
    "def deleteContact(name):\n",
    "    if name in Contacts:\n",
    "        del Contacts[name]\n",
    "        print(name,'Deleted Successfully')\n",
    "    else:\n",
    "        print(name,'Not Present')\n",
    "    return\n",
    "deleteContact('vinay')"
   ]
  },
  {
   "cell_type": "code",
   "execution_count": 66,
   "metadata": {},
   "outputs": [
    {
     "data": {
      "text/plain": [
       "{'Dinesh': '9848022338',\n",
       " 'Ramesh': '9848022338',\n",
       " 'suresh': 9876543211,\n",
       " ' Gitam': 9052302648,\n",
       " 'Anil': 9292929292,\n",
       " 'python': 1234567899}"
      ]
     },
     "execution_count": 66,
     "metadata": {},
     "output_type": "execute_result"
    }
   ],
   "source": [
    "Contacts"
   ]
  },
  {
   "cell_type": "markdown",
   "metadata": {},
   "source": [
    "### Tuples\n",
    "- Tuples enclosed with paraenthasis()\n",
    "### Differences between Tuples and List\n",
    "- List are mutable -- can be changed / Modify\n",
    "   - Read and Write the data\n",
    "- Tuples are immutable -- can't be changed / Modified\n",
    "   - Read Data only\n"
   ]
  },
  {
   "cell_type": "code",
   "execution_count": 68,
   "metadata": {},
   "outputs": [
    {
     "name": "stdout",
     "output_type": "stream",
     "text": [
      "(1, 2, 3, 4, 5)\n"
     ]
    }
   ],
   "source": [
    "t1 = (1,2,3,4,5)\n",
    "print(t1)"
   ]
  },
  {
   "cell_type": "code",
   "execution_count": 67,
   "metadata": {},
   "outputs": [
    {
     "name": "stdout",
     "output_type": "stream",
     "text": [
      "(2, 1)\n"
     ]
    }
   ],
   "source": [
    "t1 = (1,2,3,4)\n",
    "print(t1[1::-1])"
   ]
  },
  {
   "cell_type": "markdown",
   "metadata": {},
   "source": [
    "### Standard Libraries\n",
    "- Regular Expressions\n",
    "  - To validate the Indian mobile\n",
    "  - To validate EmailId\n",
    "  - To validate the Username\n",
    "  - To validate the Password\n",
    "- Understanding the Regular Expression\n",
    "  - [0-9] -- Any Digit Matching  # regexpal.com website used for Regular Expression\n",
    "  - [a-z] -- Any Lower Case Matching\n",
    "  - [A-Z] -- Any Upper Case Matching\n",
    "  - Cap Symbol is used to represent start of the Regular Expression\n",
    "  - Dollor Symbol is used to represent end of the Regular Expression"
   ]
  },
  {
   "cell_type": "code",
   "execution_count": 70,
   "metadata": {},
   "outputs": [
    {
     "name": "stdout",
     "output_type": "stream",
     "text": [
      "True\n",
      "False\n"
     ]
    }
   ],
   "source": [
    "# Function to test the two Digit number as input\n",
    "# True -- Input two digit number\n",
    "# False -- Input not a two digit number\n",
    "import re # re -- Regular Expression is imported\n",
    "def twoDigitMatching(n):\n",
    "    pattern = '^[0-9]{2}$'\n",
    "    n = str(n) # str() converts input into str format\n",
    "    if re.match(pattern,n):\n",
    "        return True\n",
    "    return False\n",
    "print(twoDigitMatching(12)) # True\n",
    "print(twoDigitMatching(123)) # False"
   ]
  },
  {
   "cell_type": "code",
   "execution_count": 72,
   "metadata": {},
   "outputs": [
    {
     "name": "stdout",
     "output_type": "stream",
     "text": [
      "True\n",
      "False\n",
      "False\n"
     ]
    }
   ],
   "source": [
    "# Regular Expression for Username\n",
    "# Username -- Should contains lower and Upper case character\n",
    "# Length -- min 5 max 12\n",
    "def validateUsername(s):\n",
    "    pattern = '^[a-zA-Z]{5,12}$'\n",
    "    if re.match(pattern,s):\n",
    "        return True\n",
    "    return False\n",
    "print(validateUsername('Anilkumar')) # TRUE\n",
    "print(validateUsername('Anil')) # FALSE\n",
    "print(validateUsername('GitamVizagPythonProgramming')) # FALSE"
   ]
  },
  {
   "cell_type": "markdown",
   "metadata": {},
   "source": [
    "### Regular Expression\n",
    "- Regular Expression for RollNumber\n",
    "   - Example : 15121A0501 # Valid\n",
    "   - Example : 16121A0574 # Not Valid\n",
    "- Regular Expression for Password\n",
    "   - Parameters  - Len min 6 max 10\n",
    "   - Accecpt Lower case, upper case,Digits and Spl (@,!,#)\n",
    "   - Example : Pass123@21 # Valid\n",
    "   - Example : Pass12*21 # Not Valid"
   ]
  },
  {
   "cell_type": "markdown",
   "metadata": {},
   "source": [
    "### Regular Expression for Indian Mobile\n",
    "- 10 Digit Number\n",
    "   - First Number is starts from [6-9]\n",
    "   - Rest  of 9 numbers is between [0-9]\n",
    "         - Example : 9851741520 # True\n",
    "         - Example : 1234567891 # False\n",
    "- 11 Digit Number\n",
    "   - First Number can be 0\n",
    "   - Second Number can be [6-9]\n",
    "   - Rest of 9 numbers is netween [0-9]\n",
    "         - Example : 09851741520 # True \n",
    "         - Example : 99851741520 # False\n",
    "- 13 Digit Number\n",
    "   - First Number can be +\n",
    "   - Second Number 9\n",
    "   - Third Number 1\n",
    "   - Fourth Number[6-9]\n",
    "   - Rest of Numbers [0-9]\n",
    "         - Example : +919052302648 # True\n",
    "         - Example : +918978248782 # True"
   ]
  },
  {
   "cell_type": "code",
   "execution_count": null,
   "metadata": {},
   "outputs": [],
   "source": [
    "### Rule 1 : ^[6-9][0-9]{9}$\n",
    "\n",
    "### Rule 2 : ^[0][6-9][0-9]{9}$\n",
    "\n",
    "### Rule 3 : ^[+][9][1][6-9][0-9]{9}$"
   ]
  },
  {
   "cell_type": "code",
   "execution_count": 74,
   "metadata": {},
   "outputs": [
    {
     "data": {
      "text/plain": [
       "True"
      ]
     },
     "execution_count": 74,
     "metadata": {},
     "output_type": "execute_result"
    }
   ],
   "source": [
    "import re\n",
    "def validateIndianPhone(n):\n",
    "    pattern = '^[6-9][0-9]{9}$|^[0][6-9][0-9]{9}$|^[+][9][1][6-9][0-9]{9}$'\n",
    "    n = str(n)\n",
    "    if re.match(pattern,n):\n",
    "        return True\n",
    "    return False\n",
    "validateIndianPhone('+919052302648') # TRUE"
   ]
  },
  {
   "cell_type": "markdown",
   "metadata": {},
   "source": [
    "### Validate the EmailID\n",
    "- Example : Username@DomainName.extension\n",
    "- Example : dsps@gmail.com\n",
    "- Username :\n",
    "     - Len of String will be [6-15]\n",
    "     - No Spl Characters except Underscore(_)\n",
    "     - Username should not begins with Underscore(_)\n",
    "     - All characters set Digits, Lower case and Upper case\n",
    "          - Example : Anil_1889\n",
    "- DomaininName\n",
    "     - Len of String will be [3-18]\n",
    "     - No Spls characters\n",
    "     - Characters set will be Digits, Lower case and Upper case\n",
    "          - Example : gmail,hotmail,ymail,rediff and etc...\n",
    "- Extension : \n",
    "     - Len of string will be [2-4]\n",
    "     - No Spls characters allowed\n",
    "     - Characters set will be Lower case Characters \n",
    "         - Example : com in au uk\n",
    "     "
   ]
  },
  {
   "cell_type": "markdown",
   "metadata": {},
   "source": [
    "# Username RE : [0-9a-zA-Z_.]{5,14}\n",
    "# Domain Name RE : [a-z0-9]{3-18}\n",
    "# Extension RE : [a-z]{2,4}\n",
    "# EmailID RE :^[0-9a-zA-Z][0-9a-zA-Z_.]{5,14}[@][a-z0-9]{3,18}[.][a-z]{2,4}$'"
   ]
  },
  {
   "cell_type": "code",
   "execution_count": 75,
   "metadata": {},
   "outputs": [
    {
     "data": {
      "text/plain": [
       "True"
      ]
     },
     "execution_count": 75,
     "metadata": {},
     "output_type": "execute_result"
    }
   ],
   "source": [
    "def validateEmail(email):\n",
    "    pattern = '^[0-9a-zA-Z][0-9a-zA-Z_.]{5,14}[@][a-z0-9]{3,18}[.][a-z]{2,4}$'\n",
    "    if re.match(pattern,email):\n",
    "        return True\n",
    "    return False\n",
    "validateEmail('srikanthbisai@gmail.com')"
   ]
  },
  {
   "cell_type": "markdown",
   "metadata": {},
   "source": [
    "### Python Graphics\n",
    "\n",
    "- Lib - turtle"
   ]
  },
  {
   "cell_type": "code",
   "execution_count": null,
   "metadata": {},
   "outputs": [],
   "source": [
    "# Import the package Turtle\n",
    "# All the commands available in this file\n",
    "import turtle\n",
    "# Create a new turtle\n",
    "t1 = turtle.Turtle()\n",
    "# Draw a line\n",
    "t1.forward(100)\n",
    "# done() -- close the window\n",
    "turtle.done()"
   ]
  },
  {
   "cell_type": "markdown",
   "metadata": {},
   "source": [
    "### Package,Module and Sub Package\n",
    "#### Package\n",
    "    - A collection of Modules(Single python file.py)\n",
    "#### Module\n",
    "    - A single Python+File contains group of function\n",
    "    \n",
    "    - package - > sub package - > modules - > function - > statements\n",
    "    - import keywords is used to import the external lib package into the python program"
   ]
  },
  {
   "cell_type": "code",
   "execution_count": 2,
   "metadata": {},
   "outputs": [
    {
     "data": {
      "text/plain": [
       "123"
      ]
     },
     "execution_count": 2,
     "metadata": {},
     "output_type": "execute_result"
    }
   ],
   "source": [
    "import math # Imports all the function into Python Program\n",
    "math.floor(123.456)"
   ]
  },
  {
   "cell_type": "code",
   "execution_count": 3,
   "metadata": {},
   "outputs": [
    {
     "data": {
      "text/plain": [
       "124"
      ]
     },
     "execution_count": 3,
     "metadata": {},
     "output_type": "execute_result"
    }
   ],
   "source": [
    "import math\n",
    "math.ceil(123.456)"
   ]
  },
  {
   "cell_type": "code",
   "execution_count": 4,
   "metadata": {},
   "outputs": [
    {
     "data": {
      "text/plain": [
       "3628800"
      ]
     },
     "execution_count": 4,
     "metadata": {},
     "output_type": "execute_result"
    }
   ],
   "source": [
    "from math import factorial as fact # Imports only 1 function into the Python program\n",
    "# as fact as alias name \n",
    "fact(10)"
   ]
  },
  {
   "cell_type": "code",
   "execution_count": 5,
   "metadata": {},
   "outputs": [
    {
     "data": {
      "text/plain": [
       "5"
      ]
     },
     "execution_count": 5,
     "metadata": {},
     "output_type": "execute_result"
    }
   ],
   "source": [
    "from math import gcd as gcd\n",
    "gcd(10,15)"
   ]
  },
  {
   "cell_type": "code",
   "execution_count": 3,
   "metadata": {},
   "outputs": [
    {
     "name": "stdout",
     "output_type": "stream",
     "text": [
      "2 7 39 72 21 52 73 96 33 66 "
     ]
    }
   ],
   "source": [
    "#Import random package\n",
    "import random\n",
    "# Function to generate the N Numbers in the given range\n",
    "def generateRandNum(n,lb,ub): \n",
    "    for i in range(0,n):\n",
    "        print(random.randint(lb,ub),end=' ')\n",
    "    return\n",
    "generateRandNum(10,0,100)\n"
   ]
  },
  {
   "cell_type": "code",
   "execution_count": 4,
   "metadata": {},
   "outputs": [],
   "source": [
    "# cCreate a simple game\n",
    "# Try to generate 20 numbers\n",
    "# Input  : Number\n",
    "# Present : Congrats\n",
    "# Not Present : Try Again"
   ]
  },
  {
   "cell_type": "code",
   "execution_count": 17,
   "metadata": {},
   "outputs": [
    {
     "name": "stdout",
     "output_type": "stream",
     "text": [
      " Try Again !!!\n"
     ]
    }
   ],
   "source": [
    "from random import randint as rdint\n",
    "def generateNumber(n,lb,ub):\n",
    "    li = []\n",
    "    for i in range(0,n):\n",
    "        li.append(rdint(lb,ub))\n",
    "    return li\n",
    "def check(n):\n",
    "    li = generateNumber(20,100,999)\n",
    "    if n in li:\n",
    "        print('Congrats !!!') ## if the input number is present then output will be congrats otherwise try again message will be displayed\n",
    "    else:\n",
    "        print(' Try Again !!!')\n",
    "    return\n",
    "check(20)"
   ]
  },
  {
   "cell_type": "code",
   "execution_count": null,
   "metadata": {},
   "outputs": [],
   "source": [
    "import turtle as tt\n",
    "a1 = tt.Turtle()\n",
    "a1.backward(150)\n",
    "tt.done()\n"
   ]
  },
  {
   "cell_type": "code",
   "execution_count": 2,
   "metadata": {},
   "outputs": [],
   "source": [
    "# Draw a star symbol\n",
    "import turtle as t\n",
    "a1 = t.Turtle()\n",
    "for i in range(40):\n",
    "    a1.forward(50)\n",
    "    a1.right(144)\n",
    "t.done()    \n"
   ]
  },
  {
   "cell_type": "code",
   "execution_count": null,
   "metadata": {},
   "outputs": [],
   "source": []
  }
 ],
 "metadata": {
  "kernelspec": {
   "display_name": "Python 3",
   "language": "python",
   "name": "python3"
  },
  "language_info": {
   "codemirror_mode": {
    "name": "ipython",
    "version": 3
   },
   "file_extension": ".py",
   "mimetype": "text/x-python",
   "name": "python",
   "nbconvert_exporter": "python",
   "pygments_lexer": "ipython3",
   "version": "3.7.3"
  }
 },
 "nbformat": 4,
 "nbformat_minor": 2
}
