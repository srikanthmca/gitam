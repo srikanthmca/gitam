{
 "cells": [
  {
   "cell_type": "markdown",
   "metadata": {},
   "source": [
    "### control statements\n",
    " - conditional statements or selection staements\n",
    "    - if-else\n",
    " - iterational staements or loop statements\n",
    "    - while\n",
    "    - for"
   ]
  },
  {
   "cell_type": "code",
   "execution_count": 6,
   "metadata": {},
   "outputs": [
    {
     "name": "stdout",
     "output_type": "stream",
     "text": [
      "2017\n",
      "Not Leap Year\n"
     ]
    }
   ],
   "source": [
    "# check the input is a leap year or not\n",
    "year = int(input(''))\n",
    "if year % 400 == 0 or (year % 100 != 0 and year % 4 ==0):\n",
    "    print('Leap year')\n",
    "else:\n",
    "    print('Not Leap Year')"
   ]
  },
  {
   "cell_type": "markdown",
   "metadata": {},
   "source": [
    "### while loop"
   ]
  },
  {
   "cell_type": "code",
   "execution_count": 8,
   "metadata": {},
   "outputs": [
    {
     "name": "stdout",
     "output_type": "stream",
     "text": [
      "Enter a number :10\n",
      "1 2 3 4 5 6 7 8 9 10 "
     ]
    }
   ],
   "source": [
    "# print numbers from 1 to n\n",
    "# input: 10\n",
    "# output : 1 2 3 4 ......10\n",
    "n = int(input('Enter a number :'))\n",
    "i = 1 \n",
    "while i <= n:\n",
    "    print(i,end= \" \")\n",
    "    i = i + 1 "
   ]
  },
  {
   "cell_type": "code",
   "execution_count": 4,
   "metadata": {},
   "outputs": [
    {
     "name": "stdout",
     "output_type": "stream",
     "text": [
      "Enter a Number :10\n",
      "30\n"
     ]
    }
   ],
   "source": [
    "# read a number as a input and print the output as from 1 to 10\n",
    "# input : 10\n",
    "#output : 30 (2+4+6+8+10)\n",
    "n = int(input('Enter a Number :'))\n",
    "i = 1\n",
    "s = 0\n",
    "while i <=n:\n",
    "    if i % 2 == 0:\n",
    "        s = s + i\n",
    "    i = i + 1\n",
    "print(s)    \n",
    "        "
   ]
  },
  {
   "cell_type": "code",
   "execution_count": 10,
   "metadata": {},
   "outputs": [
    {
     "name": "stdout",
     "output_type": "stream",
     "text": [
      "123\n",
      "3 2 1 "
     ]
    }
   ],
   "source": [
    "# Read the number as input\n",
    "# output has to be digits of that number\n",
    "\n",
    "# input : 123\n",
    "# output : 3 2 1\n",
    "n = int(input(''))\n",
    "while n != 0 :\n",
    "    print(n%10,end=' ')\n",
    "    n = n // 10      # // -> returns the output only in int value"
   ]
  },
  {
   "cell_type": "markdown",
   "metadata": {},
   "source": [
    "### Functional Programming \n",
    "\n",
    "   - simple\n",
    "   - Easy undestanding\n",
    "   - Better Reuseability\n",
    "   - Lengthy Program will be Divided into sub Programs "
   ]
  },
  {
   "cell_type": "code",
   "execution_count": null,
   "metadata": {},
   "outputs": [],
   "source": [
    "def nameoftheFunction(<parameters>):\n",
    "    statements\n",
    "    return"
   ]
  },
  {
   "cell_type": "code",
   "execution_count": 18,
   "metadata": {},
   "outputs": [
    {
     "data": {
      "text/plain": [
       "6"
      ]
     },
     "execution_count": 18,
     "metadata": {},
     "output_type": "execute_result"
    }
   ],
   "source": [
    "# Read a number\n",
    "# print the even digit sum from the number\n",
    "\n",
    "# Input : 1234\n",
    "# output : 6(2 + 4)\n",
    "\n",
    "def evenDigitSum(n):\n",
    "    s = 0\n",
    "    while n != 0:\n",
    "        r = n % 10\n",
    "        if r % 2 == 0:\n",
    "            s = s + r\n",
    "        n = n // 10\n",
    "    return s\n",
    "evenDigitSum(1234)\n",
    "        "
   ]
  },
  {
   "cell_type": "code",
   "execution_count": 22,
   "metadata": {},
   "outputs": [
    {
     "data": {
      "text/plain": [
       "9"
      ]
     },
     "execution_count": 22,
     "metadata": {},
     "output_type": "execute_result"
    }
   ],
   "source": [
    "# input : 19535\n",
    "# output : 9 (large digit of the given number)\n",
    "# Functional programming\n",
    "\n",
    "def largeDigit(n):\n",
    "    large = 0                      # implemented the logic\n",
    "    while n != 0:\n",
    "        r = n % 10 \n",
    "        if large < r:\n",
    "            large = r\n",
    "        n = n // 10   \n",
    "    return large\n",
    "largeDigit(19535)\n"
   ]
  },
  {
   "cell_type": "code",
   "execution_count": 27,
   "metadata": {},
   "outputs": [
    {
     "name": "stdout",
     "output_type": "stream",
     "text": [
      "yes\n",
      "No\n"
     ]
    }
   ],
   "source": [
    "# Read the number as input\n",
    "# output yes or no\n",
    "\n",
    "\n",
    "# input : 145\n",
    "# output : yes\n",
    "\n",
    "# input : 123\n",
    "# output : no\n",
    "\n",
    "# individual Digit factorial sum is same as input number\n",
    "def factorial(n):\n",
    "    fact = 1\n",
    "    i = 1\n",
    "    while i <= n:\n",
    "        fact = fact * i \n",
    "        i = i + 1\n",
    "    return fact    \n",
    "def amstrongNumber(n): \n",
    "    s = 0\n",
    "    buffer = n\n",
    "    while n != 0:\n",
    "        r = n % 10\n",
    "        s += factorial(r)\n",
    "        n = n // 10\n",
    "    if buffer == s:\n",
    "            return \"yes\"\n",
    "    else:\n",
    "            return \"No\"\n",
    "    return    \n",
    "print(amstrongNumber(145))#yes\n",
    "print(amstrongNumber(123))#no\n"
   ]
  },
  {
   "cell_type": "code",
   "execution_count": 28,
   "metadata": {},
   "outputs": [
    {
     "name": "stdout",
     "output_type": "stream",
     "text": [
      "palindrome\n",
      "Not a palindrome\n"
     ]
    }
   ],
   "source": [
    "# Read a number as input\n",
    "# output as palindrome or Not a palindrome\n",
    "# palindrome -- A number after reversing is same as the original number\n",
    "\n",
    "#Input : 123\n",
    "# output : Not a Palindrome\n",
    "\n",
    "\n",
    "def ispalindrome(n):\n",
    "    rev = 0\n",
    "    buffer = n\n",
    "    while n != 0:\n",
    "        rev = rev * 10 + (n%10)\n",
    "        n = n // 10\n",
    "    if buffer == rev :\n",
    "        return \"palindrome\"\n",
    "    return \"Not a palindrome\"\n",
    "print(ispalindrome(121))#palindrome\n",
    "print(ispalindrome(123))#Not a palindrome"
   ]
  },
  {
   "cell_type": "code",
   "execution_count": 29,
   "metadata": {},
   "outputs": [
    {
     "name": "stdout",
     "output_type": "stream",
     "text": [
      "11 12 13 14 15 16 17 18 19 20 21 22 23 24 25 "
     ]
    }
   ],
   "source": [
    "# Function to print the numbers between two Limits\n",
    "#Input : 11 25\n",
    "#Output:1 12 13 14 ........ 25       # range function willno\\ consider the upper bound so the second parameter\n",
    "def printSeries(lb,ub):\n",
    "    for x in range(lb,ub+1):\n",
    "        print(x,end = ' ')\n",
    "    return\n",
    "printSeries(11,25)"
   ]
  },
  {
   "cell_type": "code",
   "execution_count": 32,
   "metadata": {},
   "outputs": [
    {
     "name": "stdout",
     "output_type": "stream",
     "text": [
      "500 504 508 512 516 520 "
     ]
    }
   ],
   "source": [
    "# function to print the alternative numbers\n",
    "#[500,520] -- 500 502 504 506 508 510 ...... 520\n",
    "#[100,140] --- 100 104 108 112 116 ... 140\n",
    "\n",
    "def alternateNumbers(lb,ub):\n",
    "    for x in range(lb,ub+1,4):\n",
    "        print(x,end= ' ')\n",
    "    return\n",
    "alternateNumbers(500,520)"
   ]
  },
  {
   "cell_type": "code",
   "execution_count": 2,
   "metadata": {},
   "outputs": [
    {
     "name": "stdout",
     "output_type": "stream",
     "text": [
      "12\n",
      " Factors of 12 = [1, 2, 3, 4, 6, 12]\n"
     ]
    }
   ],
   "source": [
    "# Read a number as a input and print the output as the factors of given number\n",
    "# input 6\n",
    "# output 1 2 3 6\n",
    "# input 12\n",
    "# output 1 2 3 4 6 12\n",
    "\n",
    "num = int(input(''))\n",
    "factors =[]\n",
    "for i in range (1,num+1):\n",
    "    if num%i == 0:\n",
    "        factors.append(i)\n",
    "print(\" Factors of {} = {}\".format(num,factors))        \n"
   ]
  },
  {
   "cell_type": "code",
   "execution_count": 2,
   "metadata": {},
   "outputs": [
    {
     "name": "stdout",
     "output_type": "stream",
     "text": [
      "True\n",
      "False\n"
     ]
    }
   ],
   "source": [
    "# Read the input as a number and print the output as True or False. \n",
    "# If the input number is prime print True otherwise False\n",
    "# Input 11\n",
    "# Output True\n",
    "\n",
    "#Input 10\n",
    "#Output False\n",
    "\n",
    "def isPrime(n):\n",
    "    for i in range(2,int(n**0.5)+1):\n",
    "        if n%i==0:\n",
    "            return False\n",
    "\n",
    "    return True\n",
    "print(isPrime(11))\n",
    "print(isPrime(10))\n"
   ]
  },
  {
   "cell_type": "code",
   "execution_count": 4,
   "metadata": {},
   "outputs": [],
   "source": [
    "#Read the input as number N and print the output as Prime number count between 1 to N\n",
    "# Input 1 10\n",
    "# Output 9\n",
    "\n",
    "\n",
    "\n"
   ]
  },
  {
   "cell_type": "code",
   "execution_count": null,
   "metadata": {},
   "outputs": [],
   "source": []
  }
 ],
 "metadata": {
  "kernelspec": {
   "display_name": "Python 3",
   "language": "python",
   "name": "python3"
  },
  "language_info": {
   "codemirror_mode": {
    "name": "ipython",
    "version": 3
   },
   "file_extension": ".py",
   "mimetype": "text/x-python",
   "name": "python",
   "nbconvert_exporter": "python",
   "pygments_lexer": "ipython3",
   "version": "3.7.3"
  }
 },
 "nbformat": 4,
 "nbformat_minor": 2
}
